{
 "cells": [
  {
   "cell_type": "markdown",
   "metadata": {},
   "source": [
    "1. Import the CSV file `stations.csv` and assign it to the variable `stations`."
   ]
  },
  {
   "cell_type": "code",
   "execution_count": 5,
   "metadata": {},
   "outputs": [
    {
     "data": {
      "text/html": [
       "<div>\n",
       "<style scoped>\n",
       "    .dataframe tbody tr th:only-of-type {\n",
       "        vertical-align: middle;\n",
       "    }\n",
       "\n",
       "    .dataframe tbody tr th {\n",
       "        vertical-align: top;\n",
       "    }\n",
       "\n",
       "    .dataframe thead th {\n",
       "        text-align: right;\n",
       "    }\n",
       "</style>\n",
       "<table border=\"1\" class=\"dataframe\">\n",
       "  <thead>\n",
       "    <tr style=\"text-align: right;\">\n",
       "      <th></th>\n",
       "      <th>fuel</th>\n",
       "      <th>state</th>\n",
       "      <th>owner</th>\n",
       "      <th>access</th>\n",
       "      <th>number_of_stations</th>\n",
       "    </tr>\n",
       "  </thead>\n",
       "  <tbody>\n",
       "    <tr>\n",
       "      <th>0</th>\n",
       "      <td>biodiesel</td>\n",
       "      <td>AL</td>\n",
       "      <td>government</td>\n",
       "      <td>private</td>\n",
       "      <td>8</td>\n",
       "    </tr>\n",
       "    <tr>\n",
       "      <th>1</th>\n",
       "      <td>biodiesel</td>\n",
       "      <td>AL</td>\n",
       "      <td>private</td>\n",
       "      <td>public</td>\n",
       "      <td>2</td>\n",
       "    </tr>\n",
       "    <tr>\n",
       "      <th>2</th>\n",
       "      <td>biodiesel</td>\n",
       "      <td>AR</td>\n",
       "      <td>government</td>\n",
       "      <td>private</td>\n",
       "      <td>1</td>\n",
       "    </tr>\n",
       "    <tr>\n",
       "      <th>3</th>\n",
       "      <td>biodiesel</td>\n",
       "      <td>AR</td>\n",
       "      <td>private</td>\n",
       "      <td>public</td>\n",
       "      <td>16</td>\n",
       "    </tr>\n",
       "    <tr>\n",
       "      <th>4</th>\n",
       "      <td>biodiesel</td>\n",
       "      <td>AZ</td>\n",
       "      <td>government</td>\n",
       "      <td>private</td>\n",
       "      <td>74</td>\n",
       "    </tr>\n",
       "    <tr>\n",
       "      <th>5</th>\n",
       "      <td>biodiesel</td>\n",
       "      <td>AZ</td>\n",
       "      <td>private</td>\n",
       "      <td>public</td>\n",
       "      <td>2</td>\n",
       "    </tr>\n",
       "    <tr>\n",
       "      <th>6</th>\n",
       "      <td>biodiesel</td>\n",
       "      <td>CA</td>\n",
       "      <td>government</td>\n",
       "      <td>private</td>\n",
       "      <td>11</td>\n",
       "    </tr>\n",
       "    <tr>\n",
       "      <th>7</th>\n",
       "      <td>biodiesel</td>\n",
       "      <td>CA</td>\n",
       "      <td>private</td>\n",
       "      <td>public</td>\n",
       "      <td>23</td>\n",
       "    </tr>\n",
       "    <tr>\n",
       "      <th>8</th>\n",
       "      <td>biodiesel</td>\n",
       "      <td>CO</td>\n",
       "      <td>government</td>\n",
       "      <td>private</td>\n",
       "      <td>2</td>\n",
       "    </tr>\n",
       "    <tr>\n",
       "      <th>9</th>\n",
       "      <td>biodiesel</td>\n",
       "      <td>CO</td>\n",
       "      <td>private</td>\n",
       "      <td>public</td>\n",
       "      <td>3</td>\n",
       "    </tr>\n",
       "  </tbody>\n",
       "</table>\n",
       "</div>"
      ],
      "text/plain": [
       "        fuel state       owner   access  number_of_stations\n",
       "0  biodiesel    AL  government  private                   8\n",
       "1  biodiesel    AL     private   public                   2\n",
       "2  biodiesel    AR  government  private                   1\n",
       "3  biodiesel    AR     private   public                  16\n",
       "4  biodiesel    AZ  government  private                  74\n",
       "5  biodiesel    AZ     private   public                   2\n",
       "6  biodiesel    CA  government  private                  11\n",
       "7  biodiesel    CA     private   public                  23\n",
       "8  biodiesel    CO  government  private                   2\n",
       "9  biodiesel    CO     private   public                   3"
      ]
     },
     "execution_count": 5,
     "metadata": {},
     "output_type": "execute_result"
    }
   ],
   "source": [
    "import pandas as pd\n",
    "stations = pd.read_csv('../data/stations.csv')\n",
    "stations.head(10)"
   ]
  },
  {
   "cell_type": "markdown",
   "metadata": {},
   "source": [
    "2.  Show the different kinds of fuel included in the dataset."
   ]
  },
  {
   "cell_type": "code",
   "execution_count": 6,
   "metadata": {},
   "outputs": [
    {
     "data": {
      "text/plain": [
       "fuel                  object\n",
       "state                 object\n",
       "owner                 object\n",
       "access                object\n",
       "number_of_stations     int64\n",
       "dtype: object"
      ]
     },
     "execution_count": 6,
     "metadata": {},
     "output_type": "execute_result"
    }
   ],
   "source": [
    "stations.dtypes"
   ]
  },
  {
   "cell_type": "code",
   "execution_count": 7,
   "metadata": {},
   "outputs": [
    {
     "data": {
      "text/plain": [
       "fuel\n",
       "electric                  260\n",
       "compressed natural gas    210\n",
       "propane                   105\n",
       "ethanol                    97\n",
       "biodiesel                  70\n",
       "liquefied natural gas      50\n",
       "hydrogen                   27\n",
       "Name: count, dtype: int64"
      ]
     },
     "execution_count": 7,
     "metadata": {},
     "output_type": "execute_result"
    }
   ],
   "source": [
    "stations['fuel'].value_counts()"
   ]
  },
  {
   "cell_type": "markdown",
   "metadata": {},
   "source": [
    "3. See the different kinds of owners included in the dataset."
   ]
  },
  {
   "cell_type": "code",
   "execution_count": 8,
   "metadata": {},
   "outputs": [
    {
     "data": {
      "text/plain": [
       "owner\n",
       "private            413\n",
       "government         288\n",
       "utility company    108\n",
       "joint               10\n",
       "Name: count, dtype: int64"
      ]
     },
     "execution_count": 8,
     "metadata": {},
     "output_type": "execute_result"
    }
   ],
   "source": [
    "stations['owner'].value_counts()"
   ]
  },
  {
   "cell_type": "markdown",
   "metadata": {},
   "source": [
    "4.  See the different kinds of access included in the dataset."
   ]
  },
  {
   "cell_type": "code",
   "execution_count": 9,
   "metadata": {},
   "outputs": [
    {
     "data": {
      "text/plain": [
       "access\n",
       "public     415\n",
       "private    404\n",
       "Name: count, dtype: int64"
      ]
     },
     "execution_count": 9,
     "metadata": {},
     "output_type": "execute_result"
    }
   ],
   "source": [
    "stations['access'].value_counts()"
   ]
  },
  {
   "cell_type": "code",
   "execution_count": 11,
   "metadata": {},
   "outputs": [
    {
     "data": {
      "text/plain": [
       "count     819.000000\n",
       "mean       34.741148\n",
       "std       118.665095\n",
       "min         1.000000\n",
       "25%         2.000000\n",
       "50%         5.000000\n",
       "75%        20.500000\n",
       "max      2423.000000\n",
       "Name: number_of_stations, dtype: float64"
      ]
     },
     "execution_count": 11,
     "metadata": {},
     "output_type": "execute_result"
    }
   ],
   "source": [
    "stations['number_of_stations'].describe()"
   ]
  },
  {
   "cell_type": "markdown",
   "metadata": {},
   "source": [
    "5. Sort `stations` by `number_of_stations` from largest to smallest."
   ]
  },
  {
   "cell_type": "code",
   "execution_count": 12,
   "metadata": {},
   "outputs": [
    {
     "data": {
      "text/plain": [
       "number_of_stations\n",
       "1      190\n",
       "2      101\n",
       "4       49\n",
       "3       47\n",
       "6       35\n",
       "      ... \n",
       "69       1\n",
       "38       1\n",
       "64       1\n",
       "100      1\n",
       "47       1\n",
       "Name: count, Length: 137, dtype: int64"
      ]
     },
     "execution_count": 12,
     "metadata": {},
     "output_type": "execute_result"
    }
   ],
   "source": [
    "stations['number_of_stations'].value_counts()"
   ]
  },
  {
   "cell_type": "markdown",
   "metadata": {},
   "source": [
    "6. Sort `stations` by `number_of_stations` from smallest to largest."
   ]
  },
  {
   "cell_type": "code",
   "execution_count": 14,
   "metadata": {},
   "outputs": [
    {
     "data": {
      "text/plain": [
       "number_of_stations\n",
       "246      1\n",
       "272      1\n",
       "88       1\n",
       "84       1\n",
       "32       1\n",
       "      ... \n",
       "6       35\n",
       "3       47\n",
       "4       49\n",
       "2      101\n",
       "1      190\n",
       "Name: count, Length: 137, dtype: int64"
      ]
     },
     "execution_count": 14,
     "metadata": {},
     "output_type": "execute_result"
    }
   ],
   "source": [
    "stations['number_of_stations'].value_counts(ascending=True)"
   ]
  },
  {
   "cell_type": "markdown",
   "metadata": {},
   "source": [
    "7. Create a Boolean mask that is True for any row of stations where access is public."
   ]
  },
  {
   "cell_type": "code",
   "execution_count": 15,
   "metadata": {},
   "outputs": [],
   "source": [
    "is_plublic = stations['access'] == 'public'"
   ]
  },
  {
   "cell_type": "markdown",
   "metadata": {},
   "source": [
    "8. Create a Boolean mask that is True for any row of stations where fuel is electric."
   ]
  },
  {
   "cell_type": "code",
   "execution_count": 16,
   "metadata": {},
   "outputs": [],
   "source": [
    "is_electric = stations['fuel'] == 'electric'"
   ]
  },
  {
   "cell_type": "markdown",
   "metadata": {},
   "source": [
    "9. Filter `stations` down to only rows that are both public-access and electric-fuel. Assign the result to the variable `public_electric`."
   ]
  },
  {
   "cell_type": "code",
   "execution_count": 17,
   "metadata": {},
   "outputs": [],
   "source": [
    "public_electric = stations[is_plublic & is_electric]"
   ]
  },
  {
   "cell_type": "markdown",
   "metadata": {},
   "source": [
    "10. Sort public_electric by number_of_stations from smallest to largest. Display the top 5 rows"
   ]
  },
  {
   "cell_type": "code",
   "execution_count": 19,
   "metadata": {},
   "outputs": [
    {
     "data": {
      "text/html": [
       "<div>\n",
       "<style scoped>\n",
       "    .dataframe tbody tr th:only-of-type {\n",
       "        vertical-align: middle;\n",
       "    }\n",
       "\n",
       "    .dataframe tbody tr th {\n",
       "        vertical-align: top;\n",
       "    }\n",
       "\n",
       "    .dataframe thead th {\n",
       "        text-align: right;\n",
       "    }\n",
       "</style>\n",
       "<table border=\"1\" class=\"dataframe\">\n",
       "  <thead>\n",
       "    <tr style=\"text-align: right;\">\n",
       "      <th></th>\n",
       "      <th>fuel</th>\n",
       "      <th>state</th>\n",
       "      <th>owner</th>\n",
       "      <th>access</th>\n",
       "      <th>number_of_stations</th>\n",
       "    </tr>\n",
       "  </thead>\n",
       "  <tbody>\n",
       "    <tr>\n",
       "      <th>281</th>\n",
       "      <td>electric</td>\n",
       "      <td>AK</td>\n",
       "      <td>government</td>\n",
       "      <td>public</td>\n",
       "      <td>6</td>\n",
       "    </tr>\n",
       "    <tr>\n",
       "      <th>282</th>\n",
       "      <td>electric</td>\n",
       "      <td>AK</td>\n",
       "      <td>private</td>\n",
       "      <td>public</td>\n",
       "      <td>37</td>\n",
       "    </tr>\n",
       "    <tr>\n",
       "      <th>283</th>\n",
       "      <td>electric</td>\n",
       "      <td>AK</td>\n",
       "      <td>utility company</td>\n",
       "      <td>public</td>\n",
       "      <td>3</td>\n",
       "    </tr>\n",
       "    <tr>\n",
       "      <th>285</th>\n",
       "      <td>electric</td>\n",
       "      <td>AL</td>\n",
       "      <td>government</td>\n",
       "      <td>public</td>\n",
       "      <td>1</td>\n",
       "    </tr>\n",
       "    <tr>\n",
       "      <th>287</th>\n",
       "      <td>electric</td>\n",
       "      <td>AL</td>\n",
       "      <td>private</td>\n",
       "      <td>public</td>\n",
       "      <td>102</td>\n",
       "    </tr>\n",
       "  </tbody>\n",
       "</table>\n",
       "</div>"
      ],
      "text/plain": [
       "         fuel state            owner  access  number_of_stations\n",
       "281  electric    AK       government  public                   6\n",
       "282  electric    AK          private  public                  37\n",
       "283  electric    AK  utility company  public                   3\n",
       "285  electric    AL       government  public                   1\n",
       "287  electric    AL          private  public                 102"
      ]
     },
     "execution_count": 19,
     "metadata": {},
     "output_type": "execute_result"
    }
   ],
   "source": [
    "public_electric.sort_values(by='number_of_stations')\n",
    "public_electric.head()\n"
   ]
  },
  {
   "cell_type": "markdown",
   "metadata": {},
   "source": [
    "11. Let's compare privately- and publicly-owned stations. Create a Boolean mask that is True for each row of public_electric where owner is private."
   ]
  },
  {
   "cell_type": "code",
   "execution_count": 20,
   "metadata": {},
   "outputs": [],
   "source": [
    "is_owner_private = public_electric['owner'] == 'private'"
   ]
  },
  {
   "cell_type": "markdown",
   "metadata": {},
   "source": [
    "12. Use the Boolean `is_owner_private` to filter `public_electric` down to only privately-owned rows. Assign the result to the variable `privately_owned`."
   ]
  },
  {
   "cell_type": "code",
   "execution_count": 25,
   "metadata": {},
   "outputs": [
    {
     "data": {
      "text/html": [
       "<div>\n",
       "<style scoped>\n",
       "    .dataframe tbody tr th:only-of-type {\n",
       "        vertical-align: middle;\n",
       "    }\n",
       "\n",
       "    .dataframe tbody tr th {\n",
       "        vertical-align: top;\n",
       "    }\n",
       "\n",
       "    .dataframe thead th {\n",
       "        text-align: right;\n",
       "    }\n",
       "</style>\n",
       "<table border=\"1\" class=\"dataframe\">\n",
       "  <thead>\n",
       "    <tr style=\"text-align: right;\">\n",
       "      <th></th>\n",
       "      <th>fuel</th>\n",
       "      <th>state</th>\n",
       "      <th>owner</th>\n",
       "      <th>access</th>\n",
       "      <th>number_of_stations</th>\n",
       "    </tr>\n",
       "  </thead>\n",
       "  <tbody>\n",
       "    <tr>\n",
       "      <th>282</th>\n",
       "      <td>electric</td>\n",
       "      <td>AK</td>\n",
       "      <td>private</td>\n",
       "      <td>public</td>\n",
       "      <td>37</td>\n",
       "    </tr>\n",
       "    <tr>\n",
       "      <th>287</th>\n",
       "      <td>electric</td>\n",
       "      <td>AL</td>\n",
       "      <td>private</td>\n",
       "      <td>public</td>\n",
       "      <td>102</td>\n",
       "    </tr>\n",
       "    <tr>\n",
       "      <th>292</th>\n",
       "      <td>electric</td>\n",
       "      <td>AR</td>\n",
       "      <td>private</td>\n",
       "      <td>public</td>\n",
       "      <td>70</td>\n",
       "    </tr>\n",
       "    <tr>\n",
       "      <th>297</th>\n",
       "      <td>electric</td>\n",
       "      <td>AZ</td>\n",
       "      <td>private</td>\n",
       "      <td>public</td>\n",
       "      <td>294</td>\n",
       "    </tr>\n",
       "    <tr>\n",
       "      <th>301</th>\n",
       "      <td>electric</td>\n",
       "      <td>CA</td>\n",
       "      <td>private</td>\n",
       "      <td>public</td>\n",
       "      <td>2423</td>\n",
       "    </tr>\n",
       "  </tbody>\n",
       "</table>\n",
       "</div>"
      ],
      "text/plain": [
       "         fuel state    owner  access  number_of_stations\n",
       "282  electric    AK  private  public                  37\n",
       "287  electric    AL  private  public                 102\n",
       "292  electric    AR  private  public                  70\n",
       "297  electric    AZ  private  public                 294\n",
       "301  electric    CA  private  public                2423"
      ]
     },
     "execution_count": 25,
     "metadata": {},
     "output_type": "execute_result"
    }
   ],
   "source": [
    "privately_owned = public_electric[is_owner_private]\n",
    "privately_owned.head()"
   ]
  },
  {
   "cell_type": "markdown",
   "metadata": {},
   "source": [
    "13. Let's check how many states have privately-owned, publicly-accessible electric charging stations. Call `.describe()` on the `state` column of `privately_owned`."
   ]
  },
  {
   "cell_type": "code",
   "execution_count": 24,
   "metadata": {},
   "outputs": [
    {
     "data": {
      "text/plain": [
       "count     51\n",
       "unique    51\n",
       "top       AK\n",
       "freq       1\n",
       "Name: state, dtype: object"
      ]
     },
     "execution_count": 24,
     "metadata": {},
     "output_type": "execute_result"
    }
   ],
   "source": [
    "privately_owned['state'].describe()"
   ]
  },
  {
   "cell_type": "code",
   "execution_count": null,
   "metadata": {},
   "outputs": [],
   "source": []
  }
 ],
 "metadata": {
  "kernelspec": {
   "display_name": ".venv",
   "language": "python",
   "name": "python3"
  },
  "language_info": {
   "codemirror_mode": {
    "name": "ipython",
    "version": 3
   },
   "file_extension": ".py",
   "mimetype": "text/x-python",
   "name": "python",
   "nbconvert_exporter": "python",
   "pygments_lexer": "ipython3",
   "version": "3.12.7"
  }
 },
 "nbformat": 4,
 "nbformat_minor": 2
}
